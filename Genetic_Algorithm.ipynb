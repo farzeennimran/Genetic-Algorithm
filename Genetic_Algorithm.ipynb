{
  "nbformat": 4,
  "nbformat_minor": 0,
  "metadata": {
    "colab": {
      "provenance": []
    },
    "kernelspec": {
      "name": "python3",
      "display_name": "Python 3"
    },
    "language_info": {
      "name": "python"
    }
  },
  "cells": [
    {
      "cell_type": "markdown",
      "metadata": {
        "id": "U6k7lYnZ3clC"
      },
      "source": [
        "**Genetic Algorithm**"
      ]
    },
    {
      "cell_type": "code",
      "metadata": {
        "id": "tGVaJS0W3ayk"
      },
      "source": [
        "import random"
      ],
      "execution_count": null,
      "outputs": []
    },
    {
      "cell_type": "markdown",
      "metadata": {
        "id": "QxWWUHUx3sM4"
      },
      "source": [
        "Let say we have fucntion that evaluates the expression to 0 if the answer of expression \" 6 * x ** 3 + 9 * y ** 2 + 90 * z \" is 25.\n",
        "So That's mean we need the most suitable values of x, y and z so that we could achive our target value whichis 25 in this case."
      ]
    },
    {
      "cell_type": "code",
      "metadata": {
        "id": "a7BY0jfW3k0_"
      },
      "source": [
        "def evaluateExpression(x, y, z):\n",
        "\treturn 6 * x ** 3 + 9 * y ** 2 + 90 * z - 25"
      ],
      "execution_count": null,
      "outputs": []
    },
    {
      "cell_type": "markdown",
      "metadata": {
        "id": "wFSAohyg4s_Y"
      },
      "source": [
        "Let's write the solution based on Genetic Algorithm technique to find the most suitable values of x, y and z."
      ]
    },
    {
      "cell_type": "markdown",
      "metadata": {
        "id": "Kqovna8D5HOH"
      },
      "source": [
        "*Step1* : Population of Solutions:\n",
        "Population is generated entirely from random numbers let say upto 1000 indivuduals."
      ]
    },
    {
      "cell_type": "code",
      "metadata": {
        "id": "ujH6YRGj45L1"
      },
      "source": [
        "# generate solutions\n",
        "solutions = []\n",
        "for counter in range(1000):\n",
        "\tsolutions.append((random.uniform(0, 1000), random.uniform(0, 1000), random.uniform(0, 1000)))\n"
      ],
      "execution_count": null,
      "outputs": []
    },
    {
      "cell_type": "markdown",
      "metadata": {
        "id": "WaGcxE1g5XDe"
      },
      "source": [
        "Step2: Fitness fucntion:\n",
        "So the most fittest solution will be the one which evalutes the expression to \"0\". Otherwise the best solution will be closest to zero.\n",
        "So the fittness in this case can be seen if the solution is closest to zero. Hnece we can return highest fitness value to those solution which are closest to zero."
      ]
    },
    {
      "cell_type": "code",
      "metadata": {
        "id": "13HwHogg5eYF"
      },
      "source": [
        "def fitness(x, y, z):\n",
        "\tans = evaluateExpression(x, y, z)\n",
        "\n",
        "\tif ans == 0:\n",
        "\t\treturn 99999\n",
        "\telse:\n",
        "\t\treturn abs(1 / ans)\n"
      ],
      "execution_count": null,
      "outputs": []
    },
    {
      "cell_type": "markdown",
      "metadata": {
        "id": "301_DByz6mIG"
      },
      "source": [
        "Step3: Mating, Crossover or Generating the Genrations:\n",
        "During each generations further sub steps are performed like :\n",
        "Step 3.1: Selection of top ranked solutions\n",
        "Step 3.2: Mutation or slight changes or variation in values of solution.\n",
        "P.S(Here for the sake of anology if solution can be considered as chromosome then vatiable values can be considered as genes)\n"
      ]
    },
    {
      "cell_type": "code",
      "metadata": {
        "colab": {
          "base_uri": "https://localhost:8080/"
        },
        "id": "naXvB6VE7_-7",
        "outputId": "52106e54-9240-4876-9aa9-91d3bfd5099c"
      },
      "source": [
        "for generation_count in range(10000):\n",
        "\trankedSolutions = []\n",
        "  # fitness step\n",
        "\tfor solution in solutions:\n",
        "\t\trankedSolutions.append((fitness(solution[0], solution[1], solution[2]), solution))\n",
        "\trankedSolutions.sort()\n",
        "\trankedSolutions.reverse()\n",
        "\tprint(f\"=== Generation {generation_count} best solutions ====\")\n",
        "\tprint(rankedSolutions[0])\n",
        "\n",
        "\tif rankedSolutions[0][0] > 999:\n",
        "\t\tbreak\n",
        "\n",
        "\tbestSolution = rankedSolutions[:100]\n",
        "\t# print(bestSolution)\n",
        "\n",
        "  # selection step\n",
        "\tvariables = []\n",
        "\tfor solution in bestSolution:\n",
        "\t\tvariables.append(solution[1][0])  # variable x\n",
        "\t\tvariables.append(solution[1][1])  # variable y\n",
        "\t\tvariables.append(solution[1][2])  # variable z\n",
        "\n",
        "\tnewGeneration = []\n",
        "  # mutation step\n",
        "\tfor counter in range(1000):\n",
        "\t\tx = random.choice(variables) * random.uniform(0.99, 1.01)\n",
        "\t\ty = random.choice(variables) * random.uniform(0.99, 1.01)\n",
        "\t\tz = random.choice(variables) * random.uniform(0.99, 1.01)\n",
        "\n",
        "\t\tnewGeneration.append((x, y, z))\n",
        "\n",
        "\tsolutions = newGeneration\n"
      ],
      "execution_count": null,
      "outputs": [
        {
          "output_type": "stream",
          "name": "stdout",
          "text": [
            "=== Generation 0 best solutions ====\n",
            "(3.613284342313407e-05, (0.7651737452624152, 21.88875916287758, 259.8433775301779))\n",
            "=== Generation 1 best solutions ====\n",
            "(0.0004760597654570794, (0.7632108244060516, 8.91439876347748, 15.641229613841697))\n",
            "=== Generation 2 best solutions ====\n",
            "(0.002634304870012399, (0.7684797677747105, 5.609105149437126, 1.3191692566409097))\n",
            "=== Generation 3 best solutions ====\n",
            "(0.01943351596019229, (0.7709699650447582, 0.7580135958834797, 0.7615185355405621))\n",
            "=== Generation 4 best solutions ====\n",
            "(0.0192681628531844, (0.7598617515427936, 0.8630543958342282, 0.7506988771311259))\n",
            "=== Generation 5 best solutions ====\n",
            "(0.023068175098311067, (0.7724834779131861, 0.7738075426581256, 0.6688330617356756))\n",
            "=== Generation 6 best solutions ====\n",
            "(0.024887305914860006, (0.7752536096905492, 0.6581685286371515, 0.6498533968894947))\n",
            "=== Generation 7 best solutions ====\n",
            "(0.02600812018185127, (0.6665559368211768, 0.6611124063196734, 0.6415445722038463))\n",
            "=== Generation 8 best solutions ====\n",
            "(0.026623948751946912, (0.6528548487536667, 0.6379794000987242, 0.6358605821879219))\n",
            "=== Generation 9 best solutions ====\n",
            "(0.026920767346371145, (0.6474666764688137, 0.6403056829842827, 0.6314173590667717))\n",
            "=== Generation 10 best solutions ====\n",
            "(0.027391887375301203, (0.6393487911617519, 0.6319132858062938, 0.626058468779475))\n",
            "=== Generation 11 best solutions ====\n",
            "(0.0277438391243475, (0.6350379675452804, 0.6213285014456691, 0.6225892611474476))\n",
            "=== Generation 12 best solutions ====\n",
            "(0.028177628230081814, (0.636057029765275, 0.6221388451110689, 0.6162407183954582))\n",
            "=== Generation 13 best solutions ====\n",
            "(0.028725144850781807, (0.6257511647232806, 0.6173934909155484, 0.6101333442874699))\n",
            "=== Generation 14 best solutions ====\n",
            "(0.029098000791281876, (0.6302793539212695, 0.6141086628355984, 0.6052242056417223))\n",
            "=== Generation 15 best solutions ====\n",
            "(0.02955928559934309, (0.6122039496098604, 0.6097987088860496, 0.6011880636439635))\n",
            "=== Generation 16 best solutions ====\n",
            "(0.029950832725309066, (0.602903624499488, 0.6090765105338934, 0.5970486541072688))\n",
            "=== Generation 17 best solutions ====\n",
            "(0.030607593735286917, (0.6146877390344808, 0.5975925174418393, 0.5896005992798726))\n",
            "=== Generation 18 best solutions ====\n",
            "(0.03104204873159196, (0.6004174892792244, 0.6018982180607778, 0.5850569800495155))\n",
            "=== Generation 19 best solutions ====\n",
            "(0.03161502716830278, (0.5961645052961186, 0.5946874122084044, 0.5797371703961877))\n",
            "=== Generation 20 best solutions ====\n",
            "(0.032276976697333995, (0.5856535540898472, 0.586498460719684, 0.5742307985320935))\n",
            "=== Generation 21 best solutions ====\n",
            "(0.03263926929531697, (0.5855430562977725, 0.5832179033589022, 0.5708010507941822))\n",
            "=== Generation 22 best solutions ====\n",
            "(0.03312846271664193, (0.5804423766678691, 0.5745795657581748, 0.5671210665226927))\n",
            "=== Generation 23 best solutions ====\n",
            "(0.03372716270988313, (0.5739487460092988, 0.5720169721996253, 0.5618938916616456))\n",
            "=== Generation 24 best solutions ====\n",
            "(0.03446958557460906, (0.5568270936735523, 0.5689766607452018, 0.556239843731934))\n",
            "=== Generation 25 best solutions ====\n",
            "(0.03492744807091053, (0.5722572224453074, 0.5630587496111796, 0.5517005581030023))\n",
            "=== Generation 26 best solutions ====\n",
            "(0.03549496129344958, (0.5684530689638758, 0.5508917400685338, 0.5482171297879259))\n",
            "=== Generation 27 best solutions ====\n",
            "(0.03610174011165752, (0.5435804026814974, 0.5534674147412048, 0.5442095392206853))\n",
            "=== Generation 28 best solutions ====\n",
            "(0.036779126682714616, (0.5478416338081071, 0.5416667570990581, 0.5395796162362145))\n",
            "=== Generation 29 best solutions ====\n",
            "(0.037343114073456786, (0.5424940438897329, 0.539631961548196, 0.5355548835034601))\n",
            "=== Generation 30 best solutions ====\n",
            "(0.03805755242771318, (0.5385420941219118, 0.5340403612880793, 0.5308005460239553))\n",
            "=== Generation 31 best solutions ====\n",
            "(0.03877001630175441, (0.5376018370506512, 0.5305605273873786, 0.525860284217992))\n",
            "=== Generation 32 best solutions ====\n",
            "(0.03941376677842463, (0.5344194350564566, 0.5247168429227304, 0.5219789020596624))\n",
            "=== Generation 33 best solutions ====\n",
            "(0.04015673649675383, (0.5302650820652869, 0.5202957766177314, 0.5174605533923363))\n",
            "=== Generation 34 best solutions ====\n",
            "(0.040965636818334206, (0.5143680729633393, 0.5168612111256699, 0.5132206828182372))\n",
            "=== Generation 35 best solutions ====\n",
            "(0.04168321040386999, (0.5295007824850327, 0.5122440039181086, 0.5082021008920717))\n",
            "=== Generation 36 best solutions ====\n",
            "(0.04247168194398329, (0.5086774140195888, 0.5101562542285132, 0.5045892826643954))\n",
            "=== Generation 37 best solutions ====\n",
            "(0.04341612951147262, (0.5114514126324041, 0.514989061796596, 0.4982585593274491))\n",
            "=== Generation 38 best solutions ====\n",
            "(0.04414271370239166, (0.502842675986899, 0.5069096187847786, 0.49531460148756484))\n",
            "=== Generation 39 best solutions ====\n",
            "(0.04493499750099402, (0.5194169309624975, 0.5025388552461832, 0.4904516408962321))\n",
            "=== Generation 40 best solutions ====\n",
            "(0.046061690206469295, (0.4976402370750387, 0.5004717070180349, 0.4857370760990276))\n",
            "=== Generation 41 best solutions ====\n",
            "(0.046845217797365724, (0.502099738956137, 0.4974716802481991, 0.48177894385596104))\n",
            "=== Generation 42 best solutions ====\n",
            "(0.04826003630456627, (0.482800541491873, 0.48771218501182234, 0.4767230622885314))\n",
            "=== Generation 43 best solutions ====\n",
            "(0.04914026986799381, (0.4868367091590022, 0.477854380036954, 0.47336104843407373))\n",
            "=== Generation 44 best solutions ====\n",
            "(0.05011393206372124, (0.4773406824333649, 0.47243402905007315, 0.46992445899042956))\n",
            "=== Generation 45 best solutions ====\n",
            "(0.050882454438348726, (0.4744848609519809, 0.48100259756589653, 0.46588807875999694))\n",
            "=== Generation 46 best solutions ====\n",
            "(0.05197596288357188, (0.470850893489557, 0.4702730720162689, 0.46247693884456464))\n",
            "=== Generation 47 best solutions ====\n",
            "(0.053043778380066554, (0.4671478168602086, 0.46630910378598317, 0.45870765439727773))\n",
            "=== Generation 48 best solutions ====\n",
            "(0.05429722042072341, (0.4618902317931566, 0.4637729766570447, 0.4543348390895365))\n",
            "=== Generation 49 best solutions ====\n",
            "(0.05518919242731519, (0.4668113526645238, 0.4688146545417846, 0.4503451098521853))\n",
            "=== Generation 50 best solutions ====\n",
            "(0.05635431782389199, (0.46078016432775604, 0.45331652544545975, 0.4478712649059626))\n",
            "=== Generation 51 best solutions ====\n",
            "(0.05782053321074869, (0.449991323399679, 0.44829422438620753, 0.4437718482641268))\n",
            "=== Generation 52 best solutions ====\n",
            "(0.05911360511080673, (0.4425462871301237, 0.44912600871949027, 0.4397902577518639))\n",
            "=== Generation 53 best solutions ====\n",
            "(0.060241114705609375, (0.44119067581164256, 0.4455245000179205, 0.43664739117032686))\n",
            "=== Generation 54 best solutions ====\n",
            "(0.061509937862138354, (0.4416646804153732, 0.43543727605937527, 0.43371286533384956))\n",
            "=== Generation 55 best solutions ====\n",
            "(0.06270384876156307, (0.44062888934076117, 0.4386039741868677, 0.43003694074659343))\n",
            "=== Generation 56 best solutions ====\n",
            "(0.06458477058877599, (0.4301327131966938, 0.4315950108563755, 0.4258841586675624))\n",
            "=== Generation 57 best solutions ====\n",
            "(0.06576208118544359, (0.43026220470456605, 0.42399269903920567, 0.42344986575118154))\n",
            "=== Generation 58 best solutions ====\n",
            "(0.06719688686226048, (0.42732261773251595, 0.42934223199830956, 0.4194938057849601))\n",
            "=== Generation 59 best solutions ====\n",
            "(0.06897235910391449, (0.42387438496867513, 0.4221027797879099, 0.41597867836180386))\n",
            "=== Generation 60 best solutions ====\n",
            "(0.07061281885853163, (0.4175248790320474, 0.4178036430012339, 0.412822004704662))\n",
            "=== Generation 61 best solutions ====\n",
            "(0.07223967732450816, (0.42990555000142144, 0.4149417932443622, 0.40907211429089835))\n",
            "=== Generation 62 best solutions ====\n",
            "(0.07405641105648282, (0.42662328264579535, 0.4119693133826922, 0.40566510871931577))\n",
            "=== Generation 63 best solutions ====\n",
            "(0.0756862583815945, (0.41690569504285513, 0.4077293118376362, 0.4031274905889865))\n",
            "=== Generation 64 best solutions ====\n",
            "(0.07817231127906198, (0.40847805176342533, 0.4030840272912746, 0.39912249612770606))\n",
            "=== Generation 65 best solutions ====\n",
            "(0.07969328617086849, (0.39966514334442743, 0.40117579208163184, 0.39685104349663336))\n",
            "=== Generation 66 best solutions ====\n",
            "(0.08162459998843326, (0.4047282326303794, 0.4060775406276317, 0.3929926550412518))\n",
            "=== Generation 67 best solutions ====\n",
            "(0.08448123847973867, (0.4043184730240549, 0.3933292254728729, 0.38942227561915604))\n",
            "=== Generation 68 best solutions ====\n",
            "(0.0865426282012016, (0.4012533548815234, 0.39273351607364193, 0.38643579653441307))\n",
            "=== Generation 69 best solutions ====\n",
            "(0.08840568268461489, (0.3930434244570918, 0.39045757049804297, 0.38416738379227294))\n",
            "=== Generation 70 best solutions ====\n",
            "(0.09107407212673754, (0.3833564769645964, 0.38802803096865063, 0.380966091323148))\n",
            "=== Generation 71 best solutions ====\n",
            "(0.09383387597362963, (0.3847476387779971, 0.39318172824544945, 0.37693420281691736))\n",
            "=== Generation 72 best solutions ====\n",
            "(0.09698888932052287, (0.38029312587714653, 0.37989004990477426, 0.3742401867952034))\n",
            "=== Generation 73 best solutions ====\n",
            "(0.09969529505432946, (0.37371419245674015, 0.37563226836549934, 0.37163893908243756))\n",
            "=== Generation 74 best solutions ====\n",
            "(0.10213542456363021, (0.37296228133108533, 0.38046784797727895, 0.3686315993276743))\n",
            "=== Generation 75 best solutions ====\n",
            "(0.10548515064060211, (0.3766337860170187, 0.370747745088345, 0.36580402765530046))\n",
            "=== Generation 76 best solutions ====\n",
            "(0.1078337726318822, (0.3682768781368589, 0.3678715540121526, 0.36395417329160723))\n",
            "=== Generation 77 best solutions ====\n",
            "(0.11213612160814806, (0.3641635811526679, 0.36688871903127057, 0.3601833945772113))\n",
            "=== Generation 78 best solutions ====\n",
            "(0.11502211222436276, (0.3618604951660204, 0.3657749080600248, 0.3578395590143991))\n",
            "=== Generation 79 best solutions ====\n",
            "(0.12000760362079652, (0.35782524332870697, 0.36297706889261083, 0.35413489834639417))\n",
            "=== Generation 80 best solutions ====\n",
            "(0.12395321667263856, (0.36248903337333455, 0.3574869362701178, 0.3514622784008463))\n",
            "=== Generation 81 best solutions ====\n",
            "(0.12874641106545828, (0.3522530740296719, 0.3524271419214022, 0.3487456968086069))\n",
            "=== Generation 82 best solutions ====\n",
            "(0.1330810779854468, (0.3507269350859113, 0.3538422118270303, 0.3458724582014574))\n",
            "=== Generation 83 best solutions ====\n",
            "(0.13946898646856537, (0.3459989298992962, 0.3488757524252977, 0.34251217884658314))\n",
            "=== Generation 84 best solutions ====\n",
            "(0.14418359435170974, (0.35281682263156117, 0.3536844603276089, 0.3394028481286556))\n",
            "=== Generation 85 best solutions ====\n",
            "(0.1514444255503853, (0.3410404831372361, 0.34229520538767655, 0.3367843613722418))\n",
            "=== Generation 86 best solutions ====\n",
            "(0.15806557773912674, (0.3398535544854808, 0.3451077330548479, 0.33354527319403515))\n",
            "=== Generation 87 best solutions ====\n",
            "(0.16594819362063468, (0.33588729018428193, 0.3437556315663751, 0.33038995813560157))\n",
            "=== Generation 88 best solutions ====\n",
            "(0.1722403156568325, (0.3361037351025175, 0.34199796597822135, 0.32805965529229814))\n",
            "=== Generation 89 best solutions ====\n",
            "(0.1812959508009974, (0.331897247208816, 0.3364214480642269, 0.325309623010142))\n",
            "=== Generation 90 best solutions ====\n",
            "(0.1901070207432323, (0.3506525156916443, 0.32696340515874356, 0.32265953226817723))\n",
            "=== Generation 91 best solutions ====\n",
            "(0.19697931916067177, (0.3210163056744712, 0.32482447235704454, 0.321428771386376))\n",
            "=== Generation 92 best solutions ====\n",
            "(0.20794710148413, (0.32206412705322035, 0.3269350309945581, 0.31829443874072955))\n",
            "=== Generation 93 best solutions ====\n",
            "(0.22232536269516653, (0.3272865944894494, 0.3184484620458792, 0.3152764530136391))\n",
            "=== Generation 94 best solutions ====\n",
            "(0.23379688128261664, (0.31804535801656375, 0.32479730936066337, 0.3126083358362434))\n",
            "=== Generation 95 best solutions ====\n",
            "(0.2521328079639734, (0.32227316641132475, 0.31911675142255014, 0.30943129437621486))\n",
            "=== Generation 96 best solutions ====\n",
            "(0.26446174409816775, (0.32182194979501244, 0.31279543872191473, 0.30778567762380893))\n",
            "=== Generation 97 best solutions ====\n",
            "(0.28001902939945567, (0.3072177255550971, 0.3153464871633722, 0.3055802101754568))\n",
            "=== Generation 98 best solutions ====\n",
            "(0.30210974485097963, (0.307763432211089, 0.31266203986035207, 0.30283702704948745))\n",
            "=== Generation 99 best solutions ====\n",
            "(0.327833560381991, (0.3072926086045704, 0.302676558078086, 0.30057452126759254))\n",
            "=== Generation 100 best solutions ====\n",
            "(0.34709588413080344, (0.3038576345969341, 0.3009292359192539, 0.29886325070064973))\n",
            "=== Generation 101 best solutions ====\n",
            "(0.3832270068966301, (0.30399557085432694, 0.2973767867042328, 0.29605514933085136))\n",
            "=== Generation 102 best solutions ====\n",
            "(0.4155045516403666, (0.2987286900525117, 0.2981228967822949, 0.29385408840855964))\n",
            "=== Generation 103 best solutions ====\n",
            "(0.45191290122877936, (0.2964894664330408, 0.2999533529272749, 0.29162987146619584))\n",
            "=== Generation 104 best solutions ====\n",
            "(0.5018047870726456, (0.29524027918021706, 0.2969041249713281, 0.28938919265824753))\n",
            "=== Generation 105 best solutions ====\n",
            "(0.5670004908983642, (0.2913306520964452, 0.29333417131562306, 0.2871211653426269))\n",
            "=== Generation 106 best solutions ====\n",
            "(0.6481842625060028, (0.28524409235536535, 0.29114993220248714, 0.2848956078063853))\n",
            "=== Generation 107 best solutions ====\n",
            "(0.7741011494784416, (0.2867901236705673, 0.2879557481743953, 0.2822669528163022))\n",
            "=== Generation 108 best solutions ====\n",
            "(0.9499860976657101, (0.28740957595663125, 0.2850255068166017, 0.2797671509784423))\n",
            "=== Generation 109 best solutions ====\n",
            "(1.1595085625032358, (0.2837402929362878, 0.2832884666728462, 0.2778122446264525))\n",
            "=== Generation 110 best solutions ====\n",
            "(1.5380053877752942, (0.2769782703228118, 0.27635995568675376, 0.27594806406489325))\n",
            "=== Generation 111 best solutions ====\n",
            "(2.3461357489375456, (0.2849011128978368, 0.27622279623712326, 0.27334212528057455))\n",
            "=== Generation 112 best solutions ====\n",
            "(4.152463910244704, (0.27349501942909926, 0.27405413262293793, 0.2715791786895794))\n",
            "=== Generation 113 best solutions ====\n",
            "(35.19249545489615, (0.27445849909425885, 0.27275988712934773, 0.269275421803406))\n",
            "=== Generation 114 best solutions ====\n",
            "(579.3470932405792, (0.27412668522768907, 0.27343861304189754, 0.26894679759480894))\n",
            "=== Generation 115 best solutions ====\n",
            "(9215.00867642814, (0.276631298986949, 0.2706663157395724, 0.2690392681853406))\n"
          ]
        }
      ]
    },
    {
      "cell_type": "code",
      "source": [
        "import numpy as np"
      ],
      "metadata": {
        "id": "gpR4dns62Vch"
      },
      "execution_count": null,
      "outputs": []
    },
    {
      "cell_type": "code",
      "source": [
        "#Items available\n",
        "items = [[3, 266],\n",
        "    [13, 442],\n",
        "    [10, 671],\n",
        "    [9, 526],\n",
        "    [7, 388],\n",
        "    [1, 245],\n",
        "    [8, 210],\n",
        "    [8, 145],\n",
        "    [2, 126],\n",
        "    [9, 322]\n",
        "]\n",
        "Items = np.array(items)\n",
        "\n",
        "#initial population\n",
        "Population = [[0, 1, 0, 1, 1, 0, 0, 1, 1, 1],\n",
        " [1, 1, 1, 1, 0, 1, 1, 1, 0, 0],\n",
        " [0, 1, 0, 0, 0, 0, 1, 1, 0, 1],\n",
        " [0, 0, 1, 0, 1, 1, 0, 0, 0, 0],\n",
        " [0, 0, 1, 1, 0, 0, 0, 0, 0, 1],\n",
        " [0, 1, 0, 1, 1, 0, 1, 0, 0, 0],\n",
        " [1, 1, 1, 0, 0, 0, 1, 0, 1, 0],\n",
        " [0, 0, 0, 0, 1, 1, 1, 0, 0, 0]]\n",
        "\n",
        "Initialpopulation = np.array(Population)\n",
        "\n",
        "# Maximum weight the bag can carry\n",
        "AllowedWeight = 35"
      ],
      "metadata": {
        "id": "bnIjVNhB0v6I"
      },
      "execution_count": null,
      "outputs": []
    },
    {
      "cell_type": "code",
      "source": [
        "# Fitness Function\n",
        "def fitness(chromosome):\n",
        "    TotalValue = np.sum(chromosome * items[:, 1])  # Calculate total value\n",
        "    TotalWeight = np.sum(chromosome * items[:, 0])  # Calculate total weight\n",
        "    if TotalWeight <= AllowedWeight:\n",
        "        return TotalValue\n",
        "    else:\n",
        "        return 0\n",
        "\n",
        "\"\"\"\n",
        "n = chromosome length\n",
        "Ci = ith gene\n",
        "Vi = ith value\n",
        "Wi = ith weight\n",
        "kw = allowed weight\n",
        "\"\"\""
      ],
      "metadata": {
        "colab": {
          "base_uri": "https://localhost:8080/",
          "height": 35
        },
        "id": "SLmym5sl04xX",
        "outputId": "ef54e673-89ca-48bf-dece-ba779a3e0693"
      },
      "execution_count": null,
      "outputs": [
        {
          "output_type": "execute_result",
          "data": {
            "text/plain": [
              "'\\nn = chromosome length\\nCi = ith gene\\nVi = ith value\\nWi = ith weight\\nkw = allowed weight\\n'"
            ],
            "application/vnd.google.colaboratory.intrinsic+json": {
              "type": "string"
            }
          },
          "metadata": {},
          "execution_count": 33
        }
      ]
    },
    {
      "cell_type": "code",
      "source": [
        "# Two-point Crossover\n",
        "def crossover(parent1, parent2):\n",
        "    crossover_point1 = np.random.randint(1, len(parent1) - 2)\n",
        "    crossover_point2 = np.random.randint(crossover_point1 + 1, len(parent1) - 1)\n",
        "    child1 = np.concatenate((parent1[:crossover_point1], parent2[crossover_point1:crossover_point2], parent1[crossover_point2:]))\n",
        "    child2 = np.concatenate((parent2[:crossover_point1], parent1[crossover_point1:crossover_point2], parent2[crossover_point2:]))\n",
        "    return child1, child2\n",
        "\n",
        "#Mutation\n",
        "def mutation(child):\n",
        "    mutation_points = np.random.choice(len(child), 2, replace=False)\n",
        "    child[mutation_points[0]] = 1 - child[mutation_points[0]]\n",
        "    child[mutation_points[1]] = 1 - child[mutation_points[1]]\n",
        "    return child\n",
        "\n",
        "#Generate new population\n",
        "def generate_new_population(current_population):\n",
        "    new_population = []\n",
        "    elite_count = len(current_population) // 2  # Keep 50% best chromosomes\n",
        "    elite_population = current_population[np.argsort([fitness(chromosome) for chromosome in current_population])[::-1][:elite_count]]\n",
        "\n",
        "    while len(new_population) < len(current_population):\n",
        "        elite_indices = np.arange(len(elite_population))\n",
        "        np.random.shuffle(elite_indices)\n",
        "        parent1, parent2 = elite_population[elite_indices[0]], elite_population[elite_indices[1]]\n",
        "        child1, child2 = crossover(parent1, parent2)\n",
        "        child1 = mutation(child1)\n",
        "        child2 = mutation(child2)\n",
        "        new_population.extend([child1, child2])\n",
        "\n",
        "    return np.array(new_population)"
      ],
      "metadata": {
        "id": "3m0jVnx59D0g"
      },
      "execution_count": null,
      "outputs": []
    },
    {
      "cell_type": "code",
      "source": [
        "# Genetic Algorithm\n",
        "population = np.array(Initialpopulation)\n",
        "for i in range(20): #number of iterations\n",
        "    population = generate_new_population(population)\n",
        "\n",
        "#Select the best chromosome\n",
        "best_chromosome = population[np.argmax([fitness(chromosome) for chromosome in population])]\n",
        "print(\"Best Chromosome:\", best_chromosome)\n",
        "print(\"Total Value:\", fitness(best_chromosome))"
      ],
      "metadata": {
        "colab": {
          "base_uri": "https://localhost:8080/"
        },
        "id": "7wPc--tC-R9Q",
        "outputId": "f6187b95-3925-4efd-be1a-e6225eb6fa4b"
      },
      "execution_count": null,
      "outputs": [
        {
          "output_type": "stream",
          "name": "stdout",
          "text": [
            "Best Chromosome: [0 0 1 1 1 1 0 0 1 0]\n",
            "Total Value: 1956\n"
          ]
        }
      ]
    }
  ]
}